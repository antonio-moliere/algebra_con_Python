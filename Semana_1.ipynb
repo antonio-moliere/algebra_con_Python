{
  "nbformat": 4,
  "nbformat_minor": 0,
  "metadata": {
    "colab": {
      "provenance": [],
      "authorship_tag": "ABX9TyPpqVhNFUh5MZMUrI/AAPlA",
      "include_colab_link": true
    },
    "kernelspec": {
      "name": "python3",
      "display_name": "Python 3"
    },
    "language_info": {
      "name": "python"
    }
  },
  "cells": [
    {
      "cell_type": "markdown",
      "metadata": {
        "id": "view-in-github",
        "colab_type": "text"
      },
      "source": [
        "<a href=\"https://colab.research.google.com/github/antonio-moliere/algebra_con_Python/blob/main/Semana_1.ipynb\" target=\"_parent\"><img src=\"https://colab.research.google.com/assets/colab-badge.svg\" alt=\"Open In Colab\"/></a>"
      ]
    },
    {
      "cell_type": "markdown",
      "source": [
        "#Establecemos una proporción:\n",
        "$\\frac{n1}{d1}=\\frac{n2}{d2}$"
      ],
      "metadata": {
        "id": "IgGWyQS9dR8f"
      }
    },
    {
      "cell_type": "code",
      "source": [
        "# Escribimos 0 para el valor desconocido\n",
        "n1 = 1\n",
        "d1 = 2\n",
        "n2 = 4\n",
        "d2 = 0\n",
        "\n",
        "if n2 == 0:\n",
        "    respuesta = d2 * n1 / d1\n",
        "    print('n2 = ', respuesta)\n",
        "\n",
        "if d2 == 0:\n",
        "    respuesta = n2 * d1 / n1\n",
        "    print('d2 = ', respuesta)\n",
        "\n"
      ],
      "metadata": {
        "colab": {
          "base_uri": "https://localhost:8080/"
        },
        "id": "HCZ978aTfNvr",
        "outputId": "36edbbb6-1494-4558-b311-9b7556db9a67"
      },
      "execution_count": null,
      "outputs": [
        {
          "output_type": "stream",
          "name": "stdout",
          "text": [
            "d2 =  8.0\n"
          ]
        }
      ]
    },
    {
      "cell_type": "markdown",
      "source": [
        "# Resolvemos para x. La variable $eq$ es la ecuación igualada a 0. Esto va a imprimir un array de soluciones"
      ],
      "metadata": {
        "id": "pqNWSCxLjGGC"
      }
    },
    {
      "cell_type": "code",
      "source": [
        "import sympy\n",
        "from sympy import symbols\n",
        "from sympy.solvers import solve\n",
        "\n",
        "x = symbols('x')\n",
        "eq = x - 20\n",
        "\n",
        "print('x = ', solve(eq, x))"
      ],
      "metadata": {
        "colab": {
          "base_uri": "https://localhost:8080/"
        },
        "id": "FiWK6kyEjcS8",
        "outputId": "a1bf89e3-21b8-439f-b672-42d3147f11a4"
      },
      "execution_count": null,
      "outputs": [
        {
          "output_type": "stream",
          "name": "stdout",
          "text": [
            "x =  [20]\n"
          ]
        }
      ]
    }
  ]
}